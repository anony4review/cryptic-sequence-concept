{
 "cells": [
  {
   "cell_type": "code",
   "execution_count": null,
   "metadata": {},
   "outputs": [],
   "source": [
    "from matplotlib import pyplot as plt\n",
    "import numpy as np\n",
    "import outset as otst\n",
    "from outset import patched as otst_patched\n",
    "import pandas as pd\n",
    "import seaborn as sns\n",
    "from tqdm import tqdm\n",
    "\n",
    "from pylib.auxlib._jitter import jitter\n",
    "from pylib.analyze_epistasis import (\n",
    "    assay_epistasis_naive,\n",
    "    describe_skeletons,\n",
    "    skeletonize_naive,\n",
    ")\n",
    "from pylib.modelsys_explicit import GenomeExplicit\n",
    "from pylib.modelsys_explicit import (\n",
    "    GenomeExplicit,\n",
    "    CalcKnockoutEffectsAdditive,\n",
    "    CalcKnockoutEffectsEpistasis,\n",
    "    create_additive_array,\n",
    "    create_epistasis_matrix_disjoint,\n",
    "    describe_additive_array,\n",
    "    describe_epistasis_matrix,\n",
    ")\n"
   ]
  },
  {
   "cell_type": "code",
   "execution_count": null,
   "metadata": {},
   "outputs": [],
   "source": [
    "np.random.seed(1234)\n"
   ]
  },
  {
   "cell_type": "markdown",
   "metadata": {},
   "source": [
    "## Create Sample Genome\n"
   ]
  },
  {
   "cell_type": "code",
   "execution_count": null,
   "metadata": {},
   "outputs": [],
   "source": [
    "num_sites = 4000\n",
    "distn = lambda x: np.random.rand(x) * 0.7  # mean effect size of 0.7 / 2\n",
    "additive_array = create_additive_array(num_sites, 0.05, distn)  # 50 sites\n",
    "epistasis_matrix = create_epistasis_matrix_disjoint(num_sites, 20, 8)\n",
    "genome = GenomeExplicit(\n",
    "    [\n",
    "        CalcKnockoutEffectsAdditive(additive_array),\n",
    "        CalcKnockoutEffectsEpistasis(epistasis_matrix, effect_size=(0.7, 1.6)),\n",
    "    ],\n",
    ")\n"
   ]
  },
  {
   "cell_type": "markdown",
   "metadata": {},
   "source": [
    "## Describe and Inspect Genome\n"
   ]
  },
  {
   "cell_type": "code",
   "execution_count": null,
   "metadata": {},
   "outputs": [],
   "source": [
    "dfa = describe_additive_array(additive_array)\n",
    "dfb = describe_epistasis_matrix(epistasis_matrix)\n",
    "df_genome = pd.DataFrame.merge(dfa, dfb, on=\"site\")\n",
    "df_genome[\"site type\"] = (\n",
    "    df_genome[\"additive site\"].astype(int)\n",
    "    + df_genome[\"epistasis site\"].astype(int) * 2\n",
    ").map(\n",
    "    {\n",
    "        0: \"neutral\",\n",
    "        1: \"additive\",\n",
    "        2: \"epistasis\",\n",
    "        3: \"both\",\n",
    "    }\n",
    ")\n",
    "\n",
    "df_genome\n"
   ]
  },
  {
   "cell_type": "markdown",
   "metadata": {},
   "source": [
    "How many of each kind of site are in the genome?\n"
   ]
  },
  {
   "cell_type": "code",
   "execution_count": null,
   "metadata": {},
   "outputs": [],
   "source": [
    "sns.displot(df_genome[\"site type\"])\n",
    "plt.yscale(\"log\")\n",
    "print(df_genome[\"site type\"].value_counts())\n",
    "print(\"non-neutral\", (df_genome[\"site type\"] != \"neutral\").sum())\n"
   ]
  },
  {
   "cell_type": "markdown",
   "metadata": {},
   "source": [
    "## Perform Skeletonizations\n"
   ]
  },
  {
   "cell_type": "code",
   "execution_count": null,
   "metadata": {},
   "outputs": [],
   "source": [
    "num_skeletonizations = 20\n",
    "skeletons = np.vstack(\n",
    "    [\n",
    "        skeletonize_naive(num_sites, genome.test_knockout)\n",
    "        for _ in tqdm(range(num_skeletonizations))\n",
    "    ],\n",
    ")\n"
   ]
  },
  {
   "cell_type": "markdown",
   "metadata": {},
   "source": [
    "Example skeleton.\n"
   ]
  },
  {
   "cell_type": "code",
   "execution_count": null,
   "metadata": {},
   "outputs": [],
   "source": [
    "# convert from knockout true to retained true\n",
    "retained_sites = ~skeletons[0].astype(bool)\n",
    "sns.rugplot(\n",
    "    np.flatnonzero(retained_sites),\n",
    "    height=0.5,\n",
    ")\n",
    "retained_sites\n"
   ]
  },
  {
   "cell_type": "markdown",
   "metadata": {},
   "source": [
    "## Describe Skeletons\n"
   ]
  },
  {
   "cell_type": "markdown",
   "metadata": {},
   "source": [
    "Without neutral sites.\n"
   ]
  },
  {
   "cell_type": "code",
   "execution_count": null,
   "metadata": {},
   "outputs": [],
   "source": [
    "otst_patched.scatterplot(\n",
    "    pd.DataFrame(\n",
    "        {\n",
    "            \"skeleton order\": np.mean(skeletons, axis=0),\n",
    "            \"skeleton frequency\": jitter(\n",
    "                np.mean(skeletons.astype(bool), axis=0),\n",
    "                amount=0.01,\n",
    "            ),\n",
    "            \"site type\": df_genome[\"site type\"],\n",
    "        },\n",
    "    ),\n",
    "    x=\"skeleton order\",\n",
    "    y=\"skeleton frequency\",\n",
    "    hue=\"site type\",\n",
    "    style=\"site type\",\n",
    "    hue_order=[\"additive\", \"epistasis\", \"both\"],\n",
    "    alpha=0.5,\n",
    ")\n"
   ]
  },
  {
   "cell_type": "markdown",
   "metadata": {},
   "source": [
    "Including neutral sites.\n"
   ]
  },
  {
   "cell_type": "code",
   "execution_count": null,
   "metadata": {},
   "outputs": [],
   "source": [
    "assert (np.diff(df_genome[\"site\"]) == 1).all()  # is sorted?\n",
    "og = otst.OutsetGrid(\n",
    "    data=pd.DataFrame(\n",
    "        {\n",
    "            \"skeleton order\": np.mean(skeletons, axis=0),\n",
    "            \"skeleton frequency\": jitter(\n",
    "                np.mean(skeletons.astype(bool), axis=0),\n",
    "                amount=0.01,\n",
    "            ),\n",
    "            \"site type\": df_genome[\"site type\"],\n",
    "        },\n",
    "    ),\n",
    "    x=\"skeleton order\",\n",
    "    y=\"skeleton frequency\",\n",
    "    hue=\"site type\",\n",
    "    col=\"site type\",\n",
    "    col_wrap=3,\n",
    ")\n",
    "og.map_dataframe(\n",
    "    sns.scatterplot,\n",
    "    x=\"skeleton order\",\n",
    "    y=\"skeleton frequency\",\n",
    "    alpha=0.5,\n",
    "    legend=False,\n",
    ")\n",
    "og.add_legend(loc=\"lower right\", bbox_to_anchor=(0.9, 0.2))\n",
    "og.marqueeplot()\n",
    "\n",
    "plt.show()\n",
    "\n",
    "df_skeletons = describe_skeletons(skeletons, genome.test_knockout)\n",
    "\n",
    "df_skeletons\n"
   ]
  },
  {
   "cell_type": "markdown",
   "metadata": {},
   "source": [
    "How many unique sites are in any skeleton?\n"
   ]
  },
  {
   "cell_type": "code",
   "execution_count": null,
   "metadata": {},
   "outputs": [],
   "source": [
    "np.any(\n",
    "    (~skeletons.astype(bool)),\n",
    "    axis=0,\n",
    ").sum()\n"
   ]
  },
  {
   "cell_type": "markdown",
   "metadata": {},
   "source": [
    "## Use Skeleton Jackknifes to Differentiate Epistasis & Small-effect Sites\n"
   ]
  },
  {
   "cell_type": "code",
   "execution_count": null,
   "metadata": {},
   "outputs": [],
   "source": [
    "est = assay_epistasis_naive(\n",
    "    df_skeletons,\n",
    "    exclusion_frequency_thresh=0.3,\n",
    "    jackknife_severity_thresh=0.2,\n",
    ")\n",
    "est\n"
   ]
  },
  {
   "cell_type": "code",
   "execution_count": null,
   "metadata": {},
   "outputs": [],
   "source": [
    "df_joint = pd.DataFrame.merge(\n",
    "    df_genome,\n",
    "    df_skeletons,\n",
    "    on=\"site\",\n",
    ")\n",
    "ax = sns.scatterplot(\n",
    "    data={\n",
    "        \"skeleton exclusion rate\": jitter(\n",
    "            df_joint[\"skeleton outcome frequency, excluded\"],\n",
    "            amount=0.03,\n",
    "        ),\n",
    "        \"jackknife severity\": df_joint[\"jackknife result\"],\n",
    "        \"site type\": df_joint[\"site type\"],\n",
    "    },\n",
    "    x=\"skeleton exclusion rate\",\n",
    "    y=\"jackknife severity\",\n",
    "    hue=\"site type\",\n",
    "    style=\"site type\",\n",
    "    alpha=0.5,\n",
    ")\n",
    "sns.move_legend(\n",
    "    ax,\n",
    "    \"upper left\",\n",
    "    bbox_to_anchor=(1, 1),\n",
    ")\n",
    "plt.axvline(\n",
    "    est[\"exclusion frequency cutoff\"],\n",
    "    ls=\"--\",\n",
    ")\n",
    "plt.axhline(\n",
    "    est[\"jackknife severity cutoff\"],\n",
    "    ls=\":\",\n",
    ")\n",
    "with plt.rc_context({\"hatch.color\": \"lightblue\"}):\n",
    "    plt.gca().add_patch(\n",
    "        plt.Rectangle(\n",
    "            (\n",
    "                est[\"exclusion frequency cutoff\"],\n",
    "                est[\"jackknife severity cutoff\"],\n",
    "            ),\n",
    "            plt.xlim()[1] - est[\"exclusion frequency cutoff\"],\n",
    "            plt.ylim()[1] - est[\"jackknife severity cutoff\"],\n",
    "            alpha=0.05,\n",
    "            fill=True,\n",
    "            hatch=\"\\\\\",\n",
    "            zorder=-1,\n",
    "        )\n",
    "    )\n"
   ]
  }
 ],
 "metadata": {
  "kernelspec": {
   "display_name": "env",
   "language": "python",
   "name": "python3"
  },
  "language_info": {
   "codemirror_mode": {
    "name": "ipython",
    "version": 3
   },
   "file_extension": ".py",
   "mimetype": "text/x-python",
   "name": "python",
   "nbconvert_exporter": "python",
   "pygments_lexer": "ipython3"
  }
 },
 "nbformat": 4,
 "nbformat_minor": 2
}
