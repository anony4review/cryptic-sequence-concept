{
 "cells": [
  {
   "cell_type": "code",
   "execution_count": null,
   "metadata": {},
   "outputs": [],
   "source": [
    "import numpy as np\n",
    "\n",
    "from pylib.analyze_additive import (\n",
    "    assay_additive_naive,\n",
    "    pick_doses_extrema,\n",
    ")\n",
    "from pylib.modelsys_explicit import GenomeExplicit\n",
    "from pylib.modelsys_explicit import (\n",
    "    GenomeExplicit,\n",
    "    CalcKnockoutEffectsAdditive,\n",
    "    create_additive_array,\n",
    ")\n"
   ]
  },
  {
   "cell_type": "code",
   "execution_count": null,
   "metadata": {},
   "outputs": [],
   "source": [
    "np.random.seed(1234)\n"
   ]
  },
  {
   "cell_type": "code",
   "execution_count": null,
   "metadata": {},
   "outputs": [],
   "source": [
    "num_sites = 1000\n",
    "distn = lambda x: np.random.rand(x) * 0.2  # mean effect size of 0.1\n",
    "for replicate in range(4):\n",
    "    additive_array = create_additive_array(num_sites, 0.05, distn)  # 50 sites\n",
    "    genome = GenomeExplicit(\n",
    "        [CalcKnockoutEffectsAdditive(additive_array)],\n",
    "    )\n",
    "    knockout_doses = pick_doses_extrema(\n",
    "        genome.test_knockout, num_sites, max_doses=5, smear_count=250\n",
    "    )\n",
    "    est = assay_additive_naive(\n",
    "        genome.test_knockout, num_sites, knockout_doses, num_replications=1000\n",
    "    )\n",
    "    est[\"replicate\"] = replicate\n",
    "    display(est)\n"
   ]
  }
 ],
 "metadata": {
  "kernelspec": {
   "display_name": "env",
   "language": "python",
   "name": "python3"
  },
  "language_info": {
   "codemirror_mode": {
    "name": "ipython",
    "version": 3
   },
   "file_extension": ".py",
   "mimetype": "text/x-python",
   "name": "python",
   "nbconvert_exporter": "python",
   "pygments_lexer": "ipython3"
  }
 },
 "nbformat": 4,
 "nbformat_minor": 2
}
