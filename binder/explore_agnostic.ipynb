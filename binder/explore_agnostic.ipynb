{
 "cells": [
  {
   "cell_type": "markdown",
   "metadata": {},
   "source": [
    "# Exploratory Demo of All-types Functional Site Methods\n"
   ]
  },
  {
   "cell_type": "markdown",
   "metadata": {},
   "source": [
    "*Goal:* infer prevalence of *all* functional genome sites that cannot be identified through individual knockouts (including both additive or epistatic sites).\n",
    "\n",
    "**Outline:**\n",
    "- Generate sample genome with both additive and redundant (epistatic) sites\n",
    "- Inspect ground truth site counts in sample genome\n",
    "- Generate repeat skeletonizations of sample genome (i.e., knockouts where no remaining sites can be removed without observing a fitness effect)\n",
    "- Use mark-recapture statistics over \"captures\" of functional sites within skeletons to infer overall prevalence of functional sites\n"
   ]
  },
  {
   "cell_type": "markdown",
   "metadata": {},
   "source": [
    "## Preliminaries\n"
   ]
  },
  {
   "cell_type": "code",
   "execution_count": null,
   "metadata": {},
   "outputs": [],
   "source": [
    "from matplotlib import pyplot as plt\n",
    "import numpy as np\n",
    "import pandas as pd\n",
    "import seaborn as sns\n",
    "from tqdm import tqdm\n",
    "\n",
    "from pylib.analyze_agnostic import assay_agnostic_naive\n",
    "from pylib.analyze_epistasis import (\n",
    "    describe_skeletons,\n",
    "    skeletonize_naive,\n",
    ")\n",
    "from pylib.modelsys_explicit import GenomeExplicit\n",
    "from pylib.modelsys_explicit import (\n",
    "    GenomeExplicit,\n",
    "    CalcKnockoutEffectsAdditive,\n",
    "    CalcKnockoutEffectsEpistasis,\n",
    "    create_additive_array,\n",
    "    create_epistasis_matrix_disjoint,\n",
    "    describe_additive_array,\n",
    "    describe_epistasis_matrix,\n",
    ")\n"
   ]
  },
  {
   "cell_type": "markdown",
   "metadata": {},
   "source": [
    "Method implementations are organized as external Python source files within the local `pylib` directory.\n"
   ]
  },
  {
   "cell_type": "code",
   "execution_count": null,
   "metadata": {},
   "outputs": [],
   "source": [
    "np.random.seed(1234)\n"
   ]
  },
  {
   "cell_type": "markdown",
   "metadata": {},
   "source": [
    "Ensure reproducibility.\n"
   ]
  },
  {
   "cell_type": "markdown",
   "metadata": {},
   "source": [
    "## Create Sample Genome\n"
   ]
  },
  {
   "cell_type": "markdown",
   "metadata": {},
   "source": [
    "Create a genome with 10,000 distinct sites.\n",
    "\n",
    "Let 4% of sites have a knockout fitness effect below detectability threshold.\n",
    "Effect sizes are distributed uniformly between 0 and 0.7, relative to the detectability threshold of 1.0.\n",
    "\n",
    "Add 40 epistatic sets, each with 4 sites.\n",
    "Fitness consequences of magnitudes between 0.7 and 1.6 occur when all sites within an epistatic set are knocked out.\n",
    "\n",
    "Overlap is allowed --- n individual sites may have both additive and epistatic effects.\n"
   ]
  },
  {
   "cell_type": "code",
   "execution_count": null,
   "metadata": {},
   "outputs": [],
   "source": [
    "num_sites = 10000\n",
    "distn = lambda x: np.random.rand(x) * 0.7\n",
    "additive_array = create_additive_array(num_sites, 0.04, distn)\n",
    "epistasis_matrix = create_epistasis_matrix_disjoint(num_sites, 40, 4)\n",
    "genome = GenomeExplicit(\n",
    "    [\n",
    "        CalcKnockoutEffectsAdditive(additive_array),\n",
    "        CalcKnockoutEffectsEpistasis(epistasis_matrix, effect_size=(0.7, 1.6)),\n",
    "    ],\n",
    ")\n"
   ]
  },
  {
   "cell_type": "markdown",
   "metadata": {},
   "source": [
    "## Inspect Sample Genome\n"
   ]
  },
  {
   "cell_type": "markdown",
   "metadata": {},
   "source": [
    "Create DataFrame with rows describing content of each genome site.\n"
   ]
  },
  {
   "cell_type": "code",
   "execution_count": null,
   "metadata": {},
   "outputs": [],
   "source": [
    "dfa = describe_additive_array(additive_array)\n",
    "dfb = describe_epistasis_matrix(epistasis_matrix)\n",
    "df_genome = pd.DataFrame.merge(dfa, dfb, on=\"site\")\n",
    "df_genome[\"site type\"] = (\n",
    "    df_genome[\"additive site\"].astype(int)\n",
    "    + df_genome[\"epistasis site\"].astype(int) * 2\n",
    ").map(\n",
    "    {\n",
    "        0: \"neutral\",\n",
    "        1: \"additive\",\n",
    "        2: \"epistasis\",\n",
    "        3: \"both\",\n",
    "    }\n",
    ")\n",
    "\n",
    "df_genome\n"
   ]
  },
  {
   "cell_type": "markdown",
   "metadata": {},
   "source": [
    "How many of each kind of site are in the genome?\n"
   ]
  },
  {
   "cell_type": "code",
   "execution_count": null,
   "metadata": {},
   "outputs": [],
   "source": [
    "sns.displot(df_genome[\"site type\"])\n",
    "plt.yscale(\"log\")\n",
    "df_genome[\"site type\"].value_counts()\n"
   ]
  },
  {
   "cell_type": "markdown",
   "metadata": {},
   "source": [
    "How many functional (i.e., non-neutral) sites are there?\n"
   ]
  },
  {
   "cell_type": "code",
   "execution_count": null,
   "metadata": {},
   "outputs": [],
   "source": [
    "num_functional_sites = (df_genome[\"site type\"] != \"neutral\").sum()\n",
    "num_functional_sites\n"
   ]
  },
  {
   "cell_type": "markdown",
   "metadata": {},
   "source": [
    "## Perform Skeletonizations\n"
   ]
  },
  {
   "cell_type": "markdown",
   "metadata": {},
   "source": [
    "\"Skeletons\" are minimal sets of genome sites that maintain wile-type fitness.\n",
    "Skeletons can be generated by sequentially removing sites from the genome, until no further sites can be removed without detectably reducing fitness.\n",
    "\n",
    "Sample 5 skeletons.\n"
   ]
  },
  {
   "cell_type": "code",
   "execution_count": null,
   "metadata": {},
   "outputs": [],
   "source": [
    "num_skeletonizations = 5\n",
    "skeletons = np.vstack(\n",
    "    [\n",
    "        skeletonize_naive(num_sites, genome.test_knockout)\n",
    "        for _ in tqdm(range(num_skeletonizations))\n",
    "    ],\n",
    ")\n"
   ]
  },
  {
   "cell_type": "markdown",
   "metadata": {},
   "source": [
    "Here is an example skeleton.\n"
   ]
  },
  {
   "cell_type": "code",
   "execution_count": null,
   "metadata": {},
   "outputs": [],
   "source": [
    "# convert from knockout true to retained true\n",
    "retained_sites = ~skeletons[0].astype(bool)\n",
    "sns.rugplot(\n",
    "    np.flatnonzero(retained_sites),\n",
    "    height=0.5,\n",
    ")\n",
    "retained_sites\n"
   ]
  },
  {
   "cell_type": "markdown",
   "metadata": {},
   "source": [
    "## Describe Skeletons\n"
   ]
  },
  {
   "cell_type": "markdown",
   "metadata": {},
   "source": [
    "Tabulate information across skeletons on a site-by-site basis.\n"
   ]
  },
  {
   "cell_type": "code",
   "execution_count": null,
   "metadata": {},
   "outputs": [],
   "source": [
    "df_skeletons = describe_skeletons(skeletons, genome.test_knockout)\n",
    "\n",
    "df_skeletons\n"
   ]
  },
  {
   "cell_type": "markdown",
   "metadata": {},
   "source": [
    "How many unique sites show up in any skeleton?\n",
    "(i.e., num sites with direct evidence of functionality)\n"
   ]
  },
  {
   "cell_type": "code",
   "execution_count": null,
   "metadata": {},
   "outputs": [],
   "source": [
    "np.any(\n",
    "    (~skeletons.astype(bool)),\n",
    "    axis=0,\n",
    ").sum()\n"
   ]
  },
  {
   "cell_type": "markdown",
   "metadata": {},
   "source": [
    "## Estimate Number Functional Sites\n"
   ]
  },
  {
   "cell_type": "markdown",
   "metadata": {},
   "source": [
    "The skeletonization process can actually be interpreted as a mark-recapture experiment.\n",
    "Just like field researchers counting rabbits, we can estimate the total population of functional sites from the rate at which we \"re-capture\" specimens.\n",
    "(Here, \"re-capture\" means that a site is included in more than one skeleton.)\n",
    "\n",
    "Note that statistics taking into account bias in capture probability (aka \"trap shyness\") are necessary.\n",
    "This implementation uses a nonparametric jackknife estimator due to Burnham and Overton (see source code for details).\n"
   ]
  },
  {
   "cell_type": "code",
   "execution_count": null,
   "metadata": {},
   "outputs": [],
   "source": [
    "assay_agnostic_naive(df_skeletons)\n"
   ]
  },
  {
   "cell_type": "markdown",
   "metadata": {},
   "source": [
    "For comparison the actual number of functional sites is\n"
   ]
  },
  {
   "cell_type": "code",
   "execution_count": null,
   "metadata": {},
   "outputs": [],
   "source": [
    "num_functional_sites\n"
   ]
  }
 ],
 "metadata": {
  "kernelspec": {
   "display_name": "env",
   "language": "python",
   "name": "python3"
  },
  "language_info": {
   "codemirror_mode": {
    "name": "ipython",
    "version": 3
   },
   "file_extension": ".py",
   "mimetype": "text/x-python",
   "name": "python",
   "nbconvert_exporter": "python",
   "pygments_lexer": "ipython3"
  }
 },
 "nbformat": 4,
 "nbformat_minor": 2
}
