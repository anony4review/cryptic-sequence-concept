{
 "cells": [
  {
   "cell_type": "code",
   "execution_count": null,
   "metadata": {},
   "outputs": [],
   "source": [
    "from matplotlib import pyplot as plt\n",
    "import numpy as np\n",
    "import pandas as pd\n",
    "import seaborn as sns\n",
    "from tqdm import tqdm\n",
    "\n",
    "from pylib.analyze_agnostic import assay_agnostic_naive\n",
    "from pylib.analyze_epistasis import (\n",
    "    describe_skeletons,\n",
    "    skeletonize_naive,\n",
    ")\n",
    "from pylib.modelsys_explicit import GenomeExplicit\n",
    "from pylib.modelsys_explicit import (\n",
    "    GenomeExplicit,\n",
    "    CalcKnockoutEffectsAdditive,\n",
    "    CalcKnockoutEffectsEpistasis,\n",
    "    create_additive_array,\n",
    "    create_epistasis_matrix_disjoint,\n",
    "    describe_additive_array,\n",
    "    describe_epistasis_matrix,\n",
    ")\n"
   ]
  },
  {
   "cell_type": "code",
   "execution_count": null,
   "metadata": {},
   "outputs": [],
   "source": [
    "np.random.seed(1234)\n"
   ]
  },
  {
   "cell_type": "markdown",
   "metadata": {},
   "source": [
    "## Create Sample Genome\n"
   ]
  },
  {
   "cell_type": "code",
   "execution_count": null,
   "metadata": {},
   "outputs": [],
   "source": [
    "num_sites = 10000\n",
    "distn = lambda x: np.random.rand(x) * 0.7\n",
    "additive_array = create_additive_array(num_sites, 0.04, distn)\n",
    "epistasis_matrix = create_epistasis_matrix_disjoint(num_sites, 40, 4)\n",
    "genome = GenomeExplicit(\n",
    "    [\n",
    "        CalcKnockoutEffectsAdditive(additive_array),\n",
    "        CalcKnockoutEffectsEpistasis(epistasis_matrix, effect_size=(0.7, 1.6)),\n",
    "    ],\n",
    ")\n"
   ]
  },
  {
   "cell_type": "markdown",
   "metadata": {},
   "source": [
    "## Describe and Inspect Genome\n"
   ]
  },
  {
   "cell_type": "code",
   "execution_count": null,
   "metadata": {},
   "outputs": [],
   "source": [
    "dfa = describe_additive_array(additive_array)\n",
    "dfb = describe_epistasis_matrix(epistasis_matrix)\n",
    "df_genome = pd.DataFrame.merge(dfa, dfb, on=\"site\")\n",
    "df_genome[\"site type\"] = (\n",
    "    df_genome[\"additive site\"].astype(int)\n",
    "    + df_genome[\"epistasis site\"].astype(int) * 2\n",
    ").map(\n",
    "    {\n",
    "        0: \"neutral\",\n",
    "        1: \"additive\",\n",
    "        2: \"epistasis\",\n",
    "        3: \"both\",\n",
    "    }\n",
    ")\n",
    "\n",
    "df_genome\n"
   ]
  },
  {
   "cell_type": "markdown",
   "metadata": {},
   "source": [
    "How many of each kind of site are in the genome?\n"
   ]
  },
  {
   "cell_type": "code",
   "execution_count": null,
   "metadata": {},
   "outputs": [],
   "source": [
    "sns.displot(df_genome[\"site type\"])\n",
    "plt.yscale(\"log\")\n",
    "print(df_genome[\"site type\"].value_counts())\n",
    "print(\"non-neutral\", (df_genome[\"site type\"] != \"neutral\").sum())\n"
   ]
  },
  {
   "cell_type": "markdown",
   "metadata": {},
   "source": [
    "## Perform Skeletonizations\n"
   ]
  },
  {
   "cell_type": "code",
   "execution_count": null,
   "metadata": {},
   "outputs": [],
   "source": [
    "num_skeletonizations = 5\n",
    "skeletons = np.vstack(\n",
    "    [\n",
    "        skeletonize_naive(num_sites, genome.test_knockout)\n",
    "        for _ in tqdm(range(num_skeletonizations))\n",
    "    ],\n",
    ")\n"
   ]
  },
  {
   "cell_type": "markdown",
   "metadata": {},
   "source": [
    "Example skeleton.\n"
   ]
  },
  {
   "cell_type": "code",
   "execution_count": null,
   "metadata": {},
   "outputs": [],
   "source": [
    "# convert from knockout true to retained true\n",
    "retained_sites = ~skeletons[0].astype(bool)\n",
    "sns.rugplot(\n",
    "    np.flatnonzero(retained_sites),\n",
    "    height=0.5,\n",
    ")\n",
    "retained_sites\n"
   ]
  },
  {
   "cell_type": "markdown",
   "metadata": {},
   "source": [
    "## Describe Skeletons\n"
   ]
  },
  {
   "cell_type": "code",
   "execution_count": null,
   "metadata": {},
   "outputs": [],
   "source": [
    "sns.scatterplot(\n",
    "    {\n",
    "        \"skeleton order\": np.mean(skeletons, axis=0),\n",
    "        \"skeleton frequency\": np.mean(skeletons.astype(bool), axis=0),\n",
    "    },\n",
    "    x=\"skeleton order\",\n",
    "    y=\"skeleton frequency\",\n",
    ")\n",
    "plt.show()\n",
    "\n",
    "df_skeletons = describe_skeletons(skeletons, genome.test_knockout)\n",
    "\n",
    "df_skeletons\n"
   ]
  },
  {
   "cell_type": "markdown",
   "metadata": {},
   "source": [
    "How many unique sites are in any skeleton?\n"
   ]
  },
  {
   "cell_type": "code",
   "execution_count": null,
   "metadata": {},
   "outputs": [],
   "source": [
    "np.any(\n",
    "    (~skeletons.astype(bool)),\n",
    "    axis=0,\n",
    ").sum()\n"
   ]
  },
  {
   "cell_type": "markdown",
   "metadata": {},
   "source": [
    "## Estimate Number Functional Sites\n",
    "\n",
    "Using mark-recapture method.\n"
   ]
  },
  {
   "cell_type": "code",
   "execution_count": null,
   "metadata": {},
   "outputs": [],
   "source": [
    "assay_agnostic_naive(df_skeletons)\n"
   ]
  }
 ],
 "metadata": {
  "kernelspec": {
   "display_name": "env",
   "language": "python",
   "name": "python3"
  },
  "language_info": {
   "codemirror_mode": {
    "name": "ipython",
    "version": 3
   },
   "file_extension": ".py",
   "mimetype": "text/x-python",
   "name": "python",
   "nbconvert_exporter": "python",
   "pygments_lexer": "ipython3"
  }
 },
 "nbformat": 4,
 "nbformat_minor": 2
}
