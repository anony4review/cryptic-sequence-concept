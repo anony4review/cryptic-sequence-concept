{
 "cells": [
  {
   "cell_type": "markdown",
   "metadata": {},
   "source": [
    "Goal: compare negative binomial distribution with a Irwin-Hall distribution (sum of uniform distributions) to investigate sensitivity to effect size variation.\n",
    "(The negative binomial distribution assumes identical effect sizes at all non-neutral sites.)\n"
   ]
  },
  {
   "cell_type": "markdown",
   "metadata": {},
   "source": [
    "## Preliminaries\n"
   ]
  },
  {
   "cell_type": "code",
   "execution_count": null,
   "metadata": {},
   "outputs": [],
   "source": [
    "from cycler import cycler\n",
    "from matplotlib import pyplot as plt\n",
    "import numpy as np\n",
    "from scipy import stats as scipy_stats\n",
    "import seaborn as sns\n",
    "\n",
    "from pylib.auxlib._IrwinHallDistribution import IrwinHallDistribution\n"
   ]
  },
  {
   "cell_type": "code",
   "execution_count": null,
   "metadata": {},
   "outputs": [],
   "source": [
    "# adapted from https://matplotlib.org/stable/users/explain/artists/color_cycle.html#color-cycle\n",
    "default_cycler = cycler(color=sns.color_palette()[:8]) + cycler(\n",
    "    linestyle=[\"-\", \"--\", \":\", \"-.\"] * 2\n",
    ")\n",
    "\n",
    "plt.rc(\"lines\", linewidth=2)\n",
    "plt.rc(\"axes\", prop_cycle=default_cycler)\n"
   ]
  },
  {
   "cell_type": "markdown",
   "metadata": {},
   "source": [
    "This code rescales irwin hall output to add a coin flip probability `p` of a site being neutral (i.e., binomial distribution).\n"
   ]
  },
  {
   "cell_type": "code",
   "execution_count": null,
   "metadata": {},
   "outputs": [],
   "source": [
    "def binomcorrect(xs, ys, p):\n",
    "    # https://stackoverflow.com/a/49282684/17332200\n",
    "    dist = scipy_stats.binom(\n",
    "        p=p, n=xs\n",
    "    )  # probability of n outcomes in x trials\n",
    "    column_iota = np.atleast_2d(xs).T\n",
    "    # M[i, j] = probability of j successes in i trials\n",
    "    M = dist.pmf(k=column_iota)\n",
    "    # dot with ys to get\n",
    "    # at each number of trials n,\n",
    "    # the expected irwin hall sum of k values\n",
    "    # summed across all possible coin flip outcomes k\n",
    "    assert np.sum(M, axis=1).all() == 1\n",
    "    res = np.dot(M.T, ys)\n",
    "    return res\n"
   ]
  },
  {
   "cell_type": "markdown",
   "metadata": {},
   "source": [
    "SciPy's negative binomial is parametrized in a silly way, so create a wrapper around it. See <https://stackoverflow.com/a/73785163/17332200>.\n"
   ]
  },
  {
   "cell_type": "code",
   "execution_count": null,
   "metadata": {},
   "outputs": [],
   "source": [
    "def nbinom_cdf(\n",
    "    num_trials: int,\n",
    "    num_successes: int,\n",
    "    success_probability: float,\n",
    ") -> float:\n",
    "    # assert np.all(num_trials >= num_successes)\n",
    "    return scipy_stats.nbinom.cdf(\n",
    "        num_trials - num_successes,  # num failures\n",
    "        num_successes,  # num successes\n",
    "        success_probability,  # success probability\n",
    "    )\n"
   ]
  },
  {
   "cell_type": "markdown",
   "metadata": {},
   "source": [
    "As a sanity check, these distributions should be identical.\n"
   ]
  },
  {
   "cell_type": "code",
   "execution_count": null,
   "metadata": {},
   "outputs": [],
   "source": [
    "for p in 0.1, 0.5:\n",
    "    xs = np.arange(100)\n",
    "\n",
    "    ys1 = [1 - IrwinHallDistribution(x, 0.50, 0.51).cdf(1.0) for x in xs]\n",
    "    plt.plot(xs, binomcorrect(xs, ys1, p), lw=7)\n",
    "    plt.plot(xs, nbinom_cdf(xs, 2, p), ls=\"--\")\n",
    "\n",
    "    plt.show()\n"
   ]
  },
  {
   "cell_type": "markdown",
   "metadata": {},
   "source": [
    "## Probability Distribution Visualizations\n"
   ]
  },
  {
   "cell_type": "markdown",
   "metadata": {},
   "source": [
    "### Mean effect size 0.5 With Coin Flip Probability 0.1\n",
    "\n",
    "Including negative binomial distribution.\n"
   ]
  },
  {
   "cell_type": "code",
   "execution_count": null,
   "metadata": {},
   "outputs": [],
   "source": [
    "p = 0.1\n",
    "\n",
    "xs = np.arange(100)\n",
    "\n",
    "ys1 = [1 - IrwinHallDistribution(x, 0.0, 1.0).cdf(1.0) for x in xs]\n",
    "ys2 = [1 - IrwinHallDistribution(x, 0.49, 0.5001).cdf(1.0) for x in xs]\n",
    "\n",
    "plt.plot(xs, ys1, label=\"loose Irwh, uncorrected\")\n",
    "plt.plot(xs, ys2, label=\"tight Irwh, uncorrected\")\n",
    "plt.plot(xs, binomcorrect(xs, ys1, p), label=\"loose Irwh, corrected\")\n",
    "plt.plot(xs, binomcorrect(xs, ys2, p), label=\"tight Irwh, corrected\")\n",
    "plt.plot(xs, nbinom_cdf(xs, 2, p), label=\"Negative binomial\")\n",
    "plt.legend()\n"
   ]
  },
  {
   "cell_type": "markdown",
   "metadata": {},
   "source": [
    "### Mean effect size 0.5 With Coin Flip Probability 0.5\n",
    "\n",
    "Including negative binomial distribution.\n"
   ]
  },
  {
   "cell_type": "code",
   "execution_count": null,
   "metadata": {},
   "outputs": [],
   "source": [
    "p = 0.5\n",
    "\n",
    "xs = np.arange(20)\n",
    "ys1 = [1 - IrwinHallDistribution(x, 0.0, 1.0).cdf(1.0) for x in xs]\n",
    "ys2 = [1 - IrwinHallDistribution(x, 0.49, 0.5001).cdf(1.0) for x in xs]\n",
    "\n",
    "plt.plot(xs, binomcorrect(xs, ys1, p), label=\"loose Irwh, corrected\")\n",
    "plt.plot(xs, binomcorrect(xs, ys2, p), label=\"tight Irwh, corrected\")\n",
    "plt.plot(xs, nbinom_cdf(xs, 2, p), label=\"Negative binomial\")\n",
    "plt.legend()\n"
   ]
  },
  {
   "cell_type": "markdown",
   "metadata": {},
   "source": [
    "### Mean effect size 0.05 With Coin Flip Probability 0.5\n",
    "\n",
    "Including negative binomial distribution.\n"
   ]
  },
  {
   "cell_type": "code",
   "execution_count": null,
   "metadata": {},
   "outputs": [],
   "source": [
    "p = 0.5\n",
    "\n",
    "xs = np.arange(100)\n",
    "ys1 = [1 - IrwinHallDistribution(x, 0.0, 0.1).cdf(1.0) for x in xs]\n",
    "ys2 = [1 - IrwinHallDistribution(x, 0.045, 0.055).cdf(1.0) for x in xs]\n",
    "\n",
    "plt.plot(xs, binomcorrect(xs, ys1, p), label=\"loose Irwh, corrected\")\n",
    "plt.plot(xs, binomcorrect(xs, ys2, p), label=\"Tight Irwh, corrected\")\n",
    "plt.plot(xs, nbinom_cdf(xs, 20, p), label=\"Negative Binomial\")\n",
    "plt.legend()\n"
   ]
  },
  {
   "cell_type": "markdown",
   "metadata": {},
   "source": [
    "### Mean effect size 0.05 With Coin Flip Probability 0.2\n",
    "\n",
    "Including negative binomial distribution.\n"
   ]
  },
  {
   "cell_type": "code",
   "execution_count": null,
   "metadata": {},
   "outputs": [],
   "source": [
    "p = 0.2  # can't set lower due to precision issues\n",
    "\n",
    "xs = np.arange(160)\n",
    "ys1 = [1 - IrwinHallDistribution(x, 0.0, 0.1).cdf(1.0) for x in xs]\n",
    "ys2 = [1 - IrwinHallDistribution(x, 0.045, 0.055).cdf(1.0) for x in xs]\n",
    "\n",
    "\n",
    "plt.plot(xs, binomcorrect(xs, ys1, p), label=\"loose Irwh, corrected\")\n",
    "plt.plot(xs, binomcorrect(xs, ys2, p), label=\"tight Irwh, corrected\")\n",
    "plt.plot(xs, nbinom_cdf(xs, 20, p), label=\"Negative binomial\")\n",
    "plt.legend()\n"
   ]
  }
 ],
 "metadata": {
  "kernelspec": {
   "display_name": "Python 3",
   "language": "python",
   "name": "python3"
  },
  "language_info": {
   "codemirror_mode": {
    "name": "ipython",
    "version": 3
   },
   "file_extension": ".py",
   "mimetype": "text/x-python",
   "name": "python",
   "nbconvert_exporter": "python",
   "pygments_lexer": "ipython3"
  }
 },
 "nbformat": 4,
 "nbformat_minor": 2
}
